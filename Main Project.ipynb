{
 "cells": [
  {
   "cell_type": "markdown",
   "id": "320d927c-3851-4456-883b-835ce037ee8e",
   "metadata": {},
   "source": [
    "To explore and analyze restaurant data from Zomato's Bangalore listings to gain business insights using Python. This project covers data cleaning, transformation, visual exploration, and statistical analysis."
   ]
  },
  {
   "cell_type": "markdown",
   "id": "00ade3f9-02dc-4939-baa8-92c520e11146",
   "metadata": {},
   "source": [
    "Imoporting Libraries"
   ]
  },
  {
   "cell_type": "code",
   "execution_count": 32,
   "id": "5eb7b9fd-eb47-45d1-b4f7-4e82a9ee9d93",
   "metadata": {},
   "outputs": [],
   "source": [
    "import numpy as np \n",
    "import pandas as pd\n",
    "import matplotlib.pyplot as plt\n",
    "import seaborn as sns"
   ]
  },
  {
   "cell_type": "markdown",
   "id": "3d3b4aa7-2b61-4fb5-be35-f722c0705651",
   "metadata": {},
   "source": [
    "Load Dataset"
   ]
  },
  {
   "cell_type": "code",
   "execution_count": 33,
   "id": "1b3f800e-35ee-45bc-9222-fa5b33bd11b7",
   "metadata": {},
   "outputs": [],
   "source": [
    "df = pd.read_csv(r\"C:\\Users\\abhir\\Downloads\\zomato.csv\")"
   ]
  },
  {
   "cell_type": "markdown",
   "id": "87b95bde-11cc-415d-a077-882845b1cdf6",
   "metadata": {},
   "source": [
    "Initial Overview"
   ]
  },
  {
   "cell_type": "markdown",
   "id": "19586657-465b-43f4-8da7-3b10ba6333a5",
   "metadata": {},
   "source": [
    "Print a concise summary including non-null values and data types"
   ]
  },
  {
   "cell_type": "code",
   "execution_count": 34,
   "id": "3eadf378-d52d-45f7-91fd-39dad75edcbc",
   "metadata": {
    "scrolled": true
   },
   "outputs": [
    {
     "name": "stdout",
     "output_type": "stream",
     "text": [
      "<class 'pandas.core.frame.DataFrame'>\n",
      "RangeIndex: 51717 entries, 0 to 51716\n",
      "Data columns (total 17 columns):\n",
      " #   Column                       Non-Null Count  Dtype \n",
      "---  ------                       --------------  ----- \n",
      " 0   url                          51717 non-null  object\n",
      " 1   address                      51717 non-null  object\n",
      " 2   name                         51717 non-null  object\n",
      " 3   online_order                 51717 non-null  object\n",
      " 4   book_table                   51717 non-null  object\n",
      " 5   rate                         43942 non-null  object\n",
      " 6   votes                        51717 non-null  int64 \n",
      " 7   phone                        50509 non-null  object\n",
      " 8   location                     51696 non-null  object\n",
      " 9   rest_type                    51490 non-null  object\n",
      " 10  dish_liked                   23639 non-null  object\n",
      " 11  cuisines                     51672 non-null  object\n",
      " 12  approx_cost(for two people)  51371 non-null  object\n",
      " 13  reviews_list                 51717 non-null  object\n",
      " 14  menu_item                    51717 non-null  object\n",
      " 15  listed_in(type)              51717 non-null  object\n",
      " 16  listed_in(city)              51717 non-null  object\n",
      "dtypes: int64(1), object(16)\n",
      "memory usage: 6.7+ MB\n"
     ]
    }
   ],
   "source": [
    "df.info()"
   ]
  },
  {
   "cell_type": "markdown",
   "id": "f80e5479-fa81-4a91-afc1-f1f8569604c9",
   "metadata": {},
   "source": [
    "    "
   ]
  },
  {
   "cell_type": "markdown",
   "id": "8a42957a-e2a8-430a-ae27-4dd3fa35557b",
   "metadata": {},
   "source": [
    "    "
   ]
  },
  {
   "cell_type": "markdown",
   "id": "86a625a1-56da-414a-b2d5-02201091034c",
   "metadata": {},
   "source": [
    "Get the number of rows and columns in the dataset"
   ]
  },
  {
   "cell_type": "code",
   "execution_count": 35,
   "id": "dcd22ee0-9224-40f0-bda7-f39d4d027b8b",
   "metadata": {},
   "outputs": [
    {
     "data": {
      "text/plain": [
       "(51717, 17)"
      ]
     },
     "execution_count": 35,
     "metadata": {},
     "output_type": "execute_result"
    }
   ],
   "source": [
    "df.shape"
   ]
  },
  {
   "cell_type": "markdown",
   "id": "87845c07-ecf2-49e2-bf0a-ba2a89fd3661",
   "metadata": {},
   "source": [
    "   "
   ]
  },
  {
   "cell_type": "markdown",
   "id": "75d2c0f9-0346-4a05-8df6-30ddc97c7f73",
   "metadata": {},
   "source": [
    "Check the count of missing values in each column"
   ]
  },
  {
   "cell_type": "code",
   "execution_count": 36,
   "id": "53af57ae-0a1d-4e37-8546-776e89a6c9cc",
   "metadata": {},
   "outputs": [
    {
     "data": {
      "text/plain": [
       "url                                0\n",
       "address                            0\n",
       "name                               0\n",
       "online_order                       0\n",
       "book_table                         0\n",
       "rate                            7775\n",
       "votes                              0\n",
       "phone                           1208\n",
       "location                          21\n",
       "rest_type                        227\n",
       "dish_liked                     28078\n",
       "cuisines                          45\n",
       "approx_cost(for two people)      346\n",
       "reviews_list                       0\n",
       "menu_item                          0\n",
       "listed_in(type)                    0\n",
       "listed_in(city)                    0\n",
       "dtype: int64"
      ]
     },
     "execution_count": 36,
     "metadata": {},
     "output_type": "execute_result"
    }
   ],
   "source": [
    "df.isnull().sum()"
   ]
  },
  {
   "cell_type": "markdown",
   "id": "ecb60e4b-2746-4577-a72d-8462484c3b51",
   "metadata": {},
   "source": [
    "   "
   ]
  },
  {
   "cell_type": "markdown",
   "id": "ed4aad02-e9fd-444d-8ef4-176bc4ad3159",
   "metadata": {},
   "source": [
    "Display statistical summaries for all columns including non-numerical"
   ]
  },
  {
   "cell_type": "code",
   "execution_count": 37,
   "id": "a57c84ab-a1ba-47a1-b64c-1038f4ac5711",
   "metadata": {},
   "outputs": [
    {
     "data": {
      "text/html": [
       "<div>\n",
       "<style scoped>\n",
       "    .dataframe tbody tr th:only-of-type {\n",
       "        vertical-align: middle;\n",
       "    }\n",
       "\n",
       "    .dataframe tbody tr th {\n",
       "        vertical-align: top;\n",
       "    }\n",
       "\n",
       "    .dataframe thead th {\n",
       "        text-align: right;\n",
       "    }\n",
       "</style>\n",
       "<table border=\"1\" class=\"dataframe\">\n",
       "  <thead>\n",
       "    <tr style=\"text-align: right;\">\n",
       "      <th></th>\n",
       "      <th>votes</th>\n",
       "    </tr>\n",
       "  </thead>\n",
       "  <tbody>\n",
       "    <tr>\n",
       "      <th>count</th>\n",
       "      <td>51717.000000</td>\n",
       "    </tr>\n",
       "    <tr>\n",
       "      <th>mean</th>\n",
       "      <td>283.697527</td>\n",
       "    </tr>\n",
       "    <tr>\n",
       "      <th>std</th>\n",
       "      <td>803.838853</td>\n",
       "    </tr>\n",
       "    <tr>\n",
       "      <th>min</th>\n",
       "      <td>0.000000</td>\n",
       "    </tr>\n",
       "    <tr>\n",
       "      <th>25%</th>\n",
       "      <td>7.000000</td>\n",
       "    </tr>\n",
       "    <tr>\n",
       "      <th>50%</th>\n",
       "      <td>41.000000</td>\n",
       "    </tr>\n",
       "    <tr>\n",
       "      <th>75%</th>\n",
       "      <td>198.000000</td>\n",
       "    </tr>\n",
       "    <tr>\n",
       "      <th>max</th>\n",
       "      <td>16832.000000</td>\n",
       "    </tr>\n",
       "  </tbody>\n",
       "</table>\n",
       "</div>"
      ],
      "text/plain": [
       "              votes\n",
       "count  51717.000000\n",
       "mean     283.697527\n",
       "std      803.838853\n",
       "min        0.000000\n",
       "25%        7.000000\n",
       "50%       41.000000\n",
       "75%      198.000000\n",
       "max    16832.000000"
      ]
     },
     "execution_count": 37,
     "metadata": {},
     "output_type": "execute_result"
    }
   ],
   "source": [
    "df.describe()"
   ]
  },
  {
   "cell_type": "markdown",
   "id": "ff26b97d-fb47-4e20-8f13-33415a6b0f8b",
   "metadata": {},
   "source": [
    "       "
   ]
  },
  {
   "cell_type": "markdown",
   "id": "cdb07a7e-13cb-49e4-ad5c-8666556441c8",
   "metadata": {},
   "source": [
    "Check data types of all columns"
   ]
  },
  {
   "cell_type": "code",
   "execution_count": 38,
   "id": "3dc04c02-2565-4d32-9577-7bd1dc4dd51b",
   "metadata": {},
   "outputs": [
    {
     "data": {
      "text/plain": [
       "url                            object\n",
       "address                        object\n",
       "name                           object\n",
       "online_order                   object\n",
       "book_table                     object\n",
       "rate                           object\n",
       "votes                           int64\n",
       "phone                          object\n",
       "location                       object\n",
       "rest_type                      object\n",
       "dish_liked                     object\n",
       "cuisines                       object\n",
       "approx_cost(for two people)    object\n",
       "reviews_list                   object\n",
       "menu_item                      object\n",
       "listed_in(type)                object\n",
       "listed_in(city)                object\n",
       "dtype: object"
      ]
     },
     "execution_count": 38,
     "metadata": {},
     "output_type": "execute_result"
    }
   ],
   "source": [
    "df.dtypes"
   ]
  },
  {
   "cell_type": "markdown",
   "id": "6f38ef3e-fa14-40a1-bde3-e9f5bb605a5f",
   "metadata": {},
   "source": [
    "      "
   ]
  },
  {
   "cell_type": "markdown",
   "id": "959cab4c-0aef-4393-8a4d-3570b5a9ccc9",
   "metadata": {},
   "source": [
    "   "
   ]
  },
  {
   "cell_type": "markdown",
   "id": "bedae3b3-3571-4cf6-b1bb-6c0e84d3a615",
   "metadata": {},
   "source": [
    "Display number of unique values per column"
   ]
  },
  {
   "cell_type": "code",
   "execution_count": 58,
   "id": "258a4eff-8cc2-4848-83f6-90b4ad794881",
   "metadata": {},
   "outputs": [
    {
     "data": {
      "text/plain": [
       "name                7086\n",
       "online_order           2\n",
       "book_table             2\n",
       "rate                  31\n",
       "votes               2323\n",
       "location              92\n",
       "rest_type             88\n",
       "dish_liked          5257\n",
       "cuisines            2487\n",
       "cost                  65\n",
       "listed_in(type)        7\n",
       "cost_per_person       65\n",
       "primary_cuisines      88\n",
       "dtype: int64"
      ]
     },
     "execution_count": 58,
     "metadata": {},
     "output_type": "execute_result"
    }
   ],
   "source": [
    "df.nunique()"
   ]
  },
  {
   "cell_type": "markdown",
   "id": "01758544-3fa5-4b16-a529-92152a4a0841",
   "metadata": {},
   "source": [
    "    "
   ]
  },
  {
   "cell_type": "markdown",
   "id": "67eea273-fa7f-4b08-87b7-88140ec1d244",
   "metadata": {},
   "source": [
    "List top restaurants by frequency"
   ]
  },
  {
   "cell_type": "code",
   "execution_count": 59,
   "id": "622ead92-1462-43fe-a35c-6785adbb69fc",
   "metadata": {},
   "outputs": [
    {
     "data": {
      "text/plain": [
       "name\n",
       "Cafe Coffee Day      82\n",
       "Onesta               81\n",
       "Empire Restaurant    68\n",
       "Kanti Sweets         60\n",
       "Just Bake            56\n",
       "Name: count, dtype: int64"
      ]
     },
     "execution_count": 59,
     "metadata": {},
     "output_type": "execute_result"
    }
   ],
   "source": [
    "df['name'].value_counts().head()"
   ]
  },
  {
   "cell_type": "markdown",
   "id": "fa13fb39-6175-4466-ac78-8cfb88f8afdc",
   "metadata": {},
   "source": [
    "   "
   ]
  },
  {
   "cell_type": "markdown",
   "id": "bdec1d29-baf9-414f-92e9-f1b04ed141c4",
   "metadata": {},
   "source": [
    "List top locations by frequency"
   ]
  },
  {
   "cell_type": "code",
   "execution_count": 60,
   "id": "d276a7e4-d4cc-46d7-9e65-61d19548a629",
   "metadata": {},
   "outputs": [
    {
     "data": {
      "text/plain": [
       "location\n",
       "BTM                      2236\n",
       "Indiranagar              1658\n",
       "Whitefield               1638\n",
       "Koramangala 5th Block    1582\n",
       "HSR                      1566\n",
       "Name: count, dtype: int64"
      ]
     },
     "execution_count": 60,
     "metadata": {},
     "output_type": "execute_result"
    }
   ],
   "source": [
    "df['location'].value_counts().head()"
   ]
  },
  {
   "cell_type": "markdown",
   "id": "96f251fc-060c-4a0e-9a1a-8f09fc2a3183",
   "metadata": {},
   "source": [
    "   "
   ]
  },
  {
   "cell_type": "markdown",
   "id": "b5c08427-d835-4306-ada6-785a88cbeacb",
   "metadata": {},
   "source": [
    "First five rows"
   ]
  },
  {
   "cell_type": "code",
   "execution_count": 39,
   "id": "da1cca51-9192-4dec-9acd-bccd5ff77816",
   "metadata": {},
   "outputs": [
    {
     "data": {
      "text/html": [
       "<div>\n",
       "<style scoped>\n",
       "    .dataframe tbody tr th:only-of-type {\n",
       "        vertical-align: middle;\n",
       "    }\n",
       "\n",
       "    .dataframe tbody tr th {\n",
       "        vertical-align: top;\n",
       "    }\n",
       "\n",
       "    .dataframe thead th {\n",
       "        text-align: right;\n",
       "    }\n",
       "</style>\n",
       "<table border=\"1\" class=\"dataframe\">\n",
       "  <thead>\n",
       "    <tr style=\"text-align: right;\">\n",
       "      <th></th>\n",
       "      <th>url</th>\n",
       "      <th>address</th>\n",
       "      <th>name</th>\n",
       "      <th>online_order</th>\n",
       "      <th>book_table</th>\n",
       "      <th>rate</th>\n",
       "      <th>votes</th>\n",
       "      <th>phone</th>\n",
       "      <th>location</th>\n",
       "      <th>rest_type</th>\n",
       "      <th>dish_liked</th>\n",
       "      <th>cuisines</th>\n",
       "      <th>approx_cost(for two people)</th>\n",
       "      <th>reviews_list</th>\n",
       "      <th>menu_item</th>\n",
       "      <th>listed_in(type)</th>\n",
       "      <th>listed_in(city)</th>\n",
       "    </tr>\n",
       "  </thead>\n",
       "  <tbody>\n",
       "    <tr>\n",
       "      <th>0</th>\n",
       "      <td>https://www.zomato.com/bangalore/jalsa-banasha...</td>\n",
       "      <td>942, 21st Main Road, 2nd Stage, Banashankari, ...</td>\n",
       "      <td>Jalsa</td>\n",
       "      <td>Yes</td>\n",
       "      <td>Yes</td>\n",
       "      <td>4.1/5</td>\n",
       "      <td>775</td>\n",
       "      <td>080 42297555\\r\\n+91 9743772233</td>\n",
       "      <td>Banashankari</td>\n",
       "      <td>Casual Dining</td>\n",
       "      <td>Pasta, Lunch Buffet, Masala Papad, Paneer Laja...</td>\n",
       "      <td>North Indian, Mughlai, Chinese</td>\n",
       "      <td>800</td>\n",
       "      <td>[('Rated 4.0', 'RATED\\n  A beautiful place to ...</td>\n",
       "      <td>[]</td>\n",
       "      <td>Buffet</td>\n",
       "      <td>Banashankari</td>\n",
       "    </tr>\n",
       "    <tr>\n",
       "      <th>1</th>\n",
       "      <td>https://www.zomato.com/bangalore/spice-elephan...</td>\n",
       "      <td>2nd Floor, 80 Feet Road, Near Big Bazaar, 6th ...</td>\n",
       "      <td>Spice Elephant</td>\n",
       "      <td>Yes</td>\n",
       "      <td>No</td>\n",
       "      <td>4.1/5</td>\n",
       "      <td>787</td>\n",
       "      <td>080 41714161</td>\n",
       "      <td>Banashankari</td>\n",
       "      <td>Casual Dining</td>\n",
       "      <td>Momos, Lunch Buffet, Chocolate Nirvana, Thai G...</td>\n",
       "      <td>Chinese, North Indian, Thai</td>\n",
       "      <td>800</td>\n",
       "      <td>[('Rated 4.0', 'RATED\\n  Had been here for din...</td>\n",
       "      <td>[]</td>\n",
       "      <td>Buffet</td>\n",
       "      <td>Banashankari</td>\n",
       "    </tr>\n",
       "    <tr>\n",
       "      <th>2</th>\n",
       "      <td>https://www.zomato.com/SanchurroBangalore?cont...</td>\n",
       "      <td>1112, Next to KIMS Medical College, 17th Cross...</td>\n",
       "      <td>San Churro Cafe</td>\n",
       "      <td>Yes</td>\n",
       "      <td>No</td>\n",
       "      <td>3.8/5</td>\n",
       "      <td>918</td>\n",
       "      <td>+91 9663487993</td>\n",
       "      <td>Banashankari</td>\n",
       "      <td>Cafe, Casual Dining</td>\n",
       "      <td>Churros, Cannelloni, Minestrone Soup, Hot Choc...</td>\n",
       "      <td>Cafe, Mexican, Italian</td>\n",
       "      <td>800</td>\n",
       "      <td>[('Rated 3.0', \"RATED\\n  Ambience is not that ...</td>\n",
       "      <td>[]</td>\n",
       "      <td>Buffet</td>\n",
       "      <td>Banashankari</td>\n",
       "    </tr>\n",
       "    <tr>\n",
       "      <th>3</th>\n",
       "      <td>https://www.zomato.com/bangalore/addhuri-udupi...</td>\n",
       "      <td>1st Floor, Annakuteera, 3rd Stage, Banashankar...</td>\n",
       "      <td>Addhuri Udupi Bhojana</td>\n",
       "      <td>No</td>\n",
       "      <td>No</td>\n",
       "      <td>3.7/5</td>\n",
       "      <td>88</td>\n",
       "      <td>+91 9620009302</td>\n",
       "      <td>Banashankari</td>\n",
       "      <td>Quick Bites</td>\n",
       "      <td>Masala Dosa</td>\n",
       "      <td>South Indian, North Indian</td>\n",
       "      <td>300</td>\n",
       "      <td>[('Rated 4.0', \"RATED\\n  Great food and proper...</td>\n",
       "      <td>[]</td>\n",
       "      <td>Buffet</td>\n",
       "      <td>Banashankari</td>\n",
       "    </tr>\n",
       "    <tr>\n",
       "      <th>4</th>\n",
       "      <td>https://www.zomato.com/bangalore/grand-village...</td>\n",
       "      <td>10, 3rd Floor, Lakshmi Associates, Gandhi Baza...</td>\n",
       "      <td>Grand Village</td>\n",
       "      <td>No</td>\n",
       "      <td>No</td>\n",
       "      <td>3.8/5</td>\n",
       "      <td>166</td>\n",
       "      <td>+91 8026612447\\r\\n+91 9901210005</td>\n",
       "      <td>Basavanagudi</td>\n",
       "      <td>Casual Dining</td>\n",
       "      <td>Panipuri, Gol Gappe</td>\n",
       "      <td>North Indian, Rajasthani</td>\n",
       "      <td>600</td>\n",
       "      <td>[('Rated 4.0', 'RATED\\n  Very good restaurant ...</td>\n",
       "      <td>[]</td>\n",
       "      <td>Buffet</td>\n",
       "      <td>Banashankari</td>\n",
       "    </tr>\n",
       "  </tbody>\n",
       "</table>\n",
       "</div>"
      ],
      "text/plain": [
       "                                                 url  \\\n",
       "0  https://www.zomato.com/bangalore/jalsa-banasha...   \n",
       "1  https://www.zomato.com/bangalore/spice-elephan...   \n",
       "2  https://www.zomato.com/SanchurroBangalore?cont...   \n",
       "3  https://www.zomato.com/bangalore/addhuri-udupi...   \n",
       "4  https://www.zomato.com/bangalore/grand-village...   \n",
       "\n",
       "                                             address                   name  \\\n",
       "0  942, 21st Main Road, 2nd Stage, Banashankari, ...                  Jalsa   \n",
       "1  2nd Floor, 80 Feet Road, Near Big Bazaar, 6th ...         Spice Elephant   \n",
       "2  1112, Next to KIMS Medical College, 17th Cross...        San Churro Cafe   \n",
       "3  1st Floor, Annakuteera, 3rd Stage, Banashankar...  Addhuri Udupi Bhojana   \n",
       "4  10, 3rd Floor, Lakshmi Associates, Gandhi Baza...          Grand Village   \n",
       "\n",
       "  online_order book_table   rate  votes                             phone  \\\n",
       "0          Yes        Yes  4.1/5    775    080 42297555\\r\\n+91 9743772233   \n",
       "1          Yes         No  4.1/5    787                      080 41714161   \n",
       "2          Yes         No  3.8/5    918                    +91 9663487993   \n",
       "3           No         No  3.7/5     88                    +91 9620009302   \n",
       "4           No         No  3.8/5    166  +91 8026612447\\r\\n+91 9901210005   \n",
       "\n",
       "       location            rest_type  \\\n",
       "0  Banashankari        Casual Dining   \n",
       "1  Banashankari        Casual Dining   \n",
       "2  Banashankari  Cafe, Casual Dining   \n",
       "3  Banashankari          Quick Bites   \n",
       "4  Basavanagudi        Casual Dining   \n",
       "\n",
       "                                          dish_liked  \\\n",
       "0  Pasta, Lunch Buffet, Masala Papad, Paneer Laja...   \n",
       "1  Momos, Lunch Buffet, Chocolate Nirvana, Thai G...   \n",
       "2  Churros, Cannelloni, Minestrone Soup, Hot Choc...   \n",
       "3                                        Masala Dosa   \n",
       "4                                Panipuri, Gol Gappe   \n",
       "\n",
       "                         cuisines approx_cost(for two people)  \\\n",
       "0  North Indian, Mughlai, Chinese                         800   \n",
       "1     Chinese, North Indian, Thai                         800   \n",
       "2          Cafe, Mexican, Italian                         800   \n",
       "3      South Indian, North Indian                         300   \n",
       "4        North Indian, Rajasthani                         600   \n",
       "\n",
       "                                        reviews_list menu_item  \\\n",
       "0  [('Rated 4.0', 'RATED\\n  A beautiful place to ...        []   \n",
       "1  [('Rated 4.0', 'RATED\\n  Had been here for din...        []   \n",
       "2  [('Rated 3.0', \"RATED\\n  Ambience is not that ...        []   \n",
       "3  [('Rated 4.0', \"RATED\\n  Great food and proper...        []   \n",
       "4  [('Rated 4.0', 'RATED\\n  Very good restaurant ...        []   \n",
       "\n",
       "  listed_in(type) listed_in(city)  \n",
       "0          Buffet    Banashankari  \n",
       "1          Buffet    Banashankari  \n",
       "2          Buffet    Banashankari  \n",
       "3          Buffet    Banashankari  \n",
       "4          Buffet    Banashankari  "
      ]
     },
     "execution_count": 39,
     "metadata": {},
     "output_type": "execute_result"
    }
   ],
   "source": [
    "df.head(5)"
   ]
  },
  {
   "cell_type": "markdown",
   "id": "c8e6b5ad-459e-4577-9858-cc10fd7f6db2",
   "metadata": {},
   "source": [
    "   "
   ]
  },
  {
   "cell_type": "markdown",
   "id": "34d84352-41d1-42df-a4fa-9f0b46818281",
   "metadata": {},
   "source": [
    "Data Cleaning and Pre-processing"
   ]
  },
  {
   "cell_type": "markdown",
   "id": "9d511163-f41b-425e-b920-6ad95a7460f4",
   "metadata": {},
   "source": [
    "Drop irrelevant columns that do not contribute to analysis"
   ]
  },
  {
   "cell_type": "code",
   "execution_count": 40,
   "id": "1ee48225-3673-4bb4-9f31-acfbb27cce9e",
   "metadata": {},
   "outputs": [],
   "source": [
    "columns_to_drop = ['url', 'address', 'phone', 'reviews_list', 'menu_item', 'listed_in(city)']\n",
    "df.drop(columns= columns_to_drop, inplace = True)"
   ]
  },
  {
   "cell_type": "markdown",
   "id": "d82ec45b-6c30-4211-9a88-339a27bb5a73",
   "metadata": {},
   "source": [
    "   "
   ]
  },
  {
   "cell_type": "markdown",
   "id": "e21cb663-76b4-4e16-96f0-d89aa83dae73",
   "metadata": {},
   "source": [
    "Remove duplicate rows to avoid skewed results"
   ]
  },
  {
   "cell_type": "code",
   "execution_count": 41,
   "id": "a4d1611f-9682-4c01-b55e-84c6bbeaff6a",
   "metadata": {},
   "outputs": [],
   "source": [
    "df.drop_duplicates(inplace = True)"
   ]
  },
  {
   "cell_type": "markdown",
   "id": "cbd0a7e2-1167-4a71-a248-b1d8f824af9d",
   "metadata": {},
   "source": [
    "   "
   ]
  },
  {
   "cell_type": "markdown",
   "id": "10ca730f-d44a-4e67-bb06-22d24e904f27",
   "metadata": {},
   "source": [
    "Drop rows where critical columns have missing values"
   ]
  },
  {
   "cell_type": "code",
   "execution_count": 42,
   "id": "18529612-a15f-4147-973e-18bc6a839df6",
   "metadata": {},
   "outputs": [],
   "source": [
    "df.dropna(subset= ['rate', 'approx_cost(for two people)', 'location'], inplace = True)"
   ]
  },
  {
   "cell_type": "markdown",
   "id": "83b248ee-e533-463a-b776-f09dd9805a8b",
   "metadata": {},
   "source": [
    "   "
   ]
  },
  {
   "cell_type": "markdown",
   "id": "eecd91bb-2ef2-4e26-94cf-baef36587239",
   "metadata": {},
   "source": [
    "Fill missing values in less critical columns with default values"
   ]
  },
  {
   "cell_type": "code",
   "execution_count": 43,
   "id": "a2554815-10ea-4159-b37e-d27fe478d804",
   "metadata": {},
   "outputs": [],
   "source": [
    "df['cuisines'] = df['cuisines'].fillna('Unknown')\n",
    "df['rest_type'] = df['rest_type'].fillna('Others')\n",
    "df['dish_liked'] = df['dish_liked'].fillna('Not specified')\n"
   ]
  },
  {
   "cell_type": "markdown",
   "id": "65d3fd10-f94b-4d15-a281-5a1d62aae264",
   "metadata": {},
   "source": [
    "    "
   ]
  },
  {
   "cell_type": "markdown",
   "id": "56210eae-eb8a-4809-b16e-624a39dfcd35",
   "metadata": {},
   "source": [
    "Clean 'rate' column by removing '/5', stripping spaces, and converting to numeric"
   ]
  },
  {
   "cell_type": "code",
   "execution_count": 57,
   "id": "d74ff172-8588-4996-b74b-4abbdf357736",
   "metadata": {},
   "outputs": [],
   "source": [
    "\n",
    "df['rate'] = df['rate'].astype(str).str.replace('/5', '', regex=False).str.strip()\n",
    "df['rate'] = df['rate'].replace('-', np.nan)\n",
    "df['rate'] = pd.to_numeric(df['rate'], errors='coerce')\n",
    "\n"
   ]
  },
  {
   "cell_type": "markdown",
   "id": "67371d50-014e-4f61-92d9-208e53916ff7",
   "metadata": {},
   "source": [
    "   "
   ]
  },
  {
   "cell_type": "markdown",
   "id": "2c846771-f45d-4b09-972e-ccd6e172f561",
   "metadata": {},
   "source": [
    "Remove commas from 'cost' column and convert to float"
   ]
  },
  {
   "cell_type": "code",
   "execution_count": 48,
   "id": "1094ceb9-ab18-4c72-853d-aee2561c8ccf",
   "metadata": {},
   "outputs": [],
   "source": [
    "df['approx_cost(for two people)']= df['approx_cost(for two people)'].astype(str).str.replace(\",\", \"\").astype(float)\n",
    "df.rename(columns= {'approx_cost(for two people)':'cost'}, inplace = True)"
   ]
  },
  {
   "cell_type": "markdown",
   "id": "cb8ca8ac-4ea5-44cf-ad98-b737a6b94275",
   "metadata": {},
   "source": [
    "  "
   ]
  },
  {
   "cell_type": "markdown",
   "id": "944044eb-74a3-440d-9d17-47d1c91bb882",
   "metadata": {},
   "source": [
    "Add new column with cost per person"
   ]
  },
  {
   "cell_type": "code",
   "execution_count": 63,
   "id": "59806af1-489e-4e32-a421-8e676514fb2f",
   "metadata": {},
   "outputs": [],
   "source": [
    "df['cost_per_person'] = df['cost']/2"
   ]
  },
  {
   "cell_type": "markdown",
   "id": "a14db278-affe-43b2-b6a9-d801a2bc8f91",
   "metadata": {},
   "source": [
    "   "
   ]
  },
  {
   "cell_type": "markdown",
   "id": "5a13c0ec-a32e-47cb-a312-f63098d6986b",
   "metadata": {},
   "source": [
    "Extract the first listed cuisine as the primary one"
   ]
  },
  {
   "cell_type": "code",
   "execution_count": 61,
   "id": "df6e6e27-0b04-4fc2-931c-0abdc6e94543",
   "metadata": {},
   "outputs": [],
   "source": [
    "df['primary_cuisines'] = df['cuisines'].str.split(',').str[0]"
   ]
  },
  {
   "cell_type": "markdown",
   "id": "2a4fbf5a-2524-4a6a-b999-d483df414bc3",
   "metadata": {},
   "source": [
    "   "
   ]
  },
  {
   "cell_type": "markdown",
   "id": "2d7d3a13-165d-4fb3-bc44-042f8dcc3dc2",
   "metadata": {},
   "source": [
    "Convert 'Yes/No' to boolean in online order and table booking"
   ]
  },
  {
   "cell_type": "code",
   "execution_count": 50,
   "id": "3a03d8cc-cb95-4867-a7ef-584c1bc8bcd6",
   "metadata": {},
   "outputs": [],
   "source": [
    "df['online_order']= df['online_order'].map({'Yes':True, 'No':False})\n",
    "df['book_table']= df['book_table'].map({'Yes':True, 'No':False})"
   ]
  },
  {
   "cell_type": "markdown",
   "id": "683d745a-5603-41d6-926b-0728629439dd",
   "metadata": {},
   "source": [
    "    "
   ]
  },
  {
   "cell_type": "markdown",
   "id": "304f6f04-a9f9-4ef5-907f-1c80d2a4def1",
   "metadata": {},
   "source": [
    "Standardize column names: lowercase, strip spaces, replace spaces with underscores"
   ]
  },
  {
   "cell_type": "code",
   "execution_count": 53,
   "id": "6030fd46-aa54-4ced-a1b8-f5c894badc2a",
   "metadata": {},
   "outputs": [],
   "source": [
    "df.columns= df.columns.str.strip().str.lower().str.replace(\" \", \"_\")"
   ]
  },
  {
   "cell_type": "code",
   "execution_count": 54,
   "id": "1d7f57f3-9907-47c6-a332-1edefec92010",
   "metadata": {},
   "outputs": [
    {
     "data": {
      "text/html": [
       "<div>\n",
       "<style scoped>\n",
       "    .dataframe tbody tr th:only-of-type {\n",
       "        vertical-align: middle;\n",
       "    }\n",
       "\n",
       "    .dataframe tbody tr th {\n",
       "        vertical-align: top;\n",
       "    }\n",
       "\n",
       "    .dataframe thead th {\n",
       "        text-align: right;\n",
       "    }\n",
       "</style>\n",
       "<table border=\"1\" class=\"dataframe\">\n",
       "  <thead>\n",
       "    <tr style=\"text-align: right;\">\n",
       "      <th></th>\n",
       "      <th>name</th>\n",
       "      <th>online_order</th>\n",
       "      <th>book_table</th>\n",
       "      <th>rate</th>\n",
       "      <th>votes</th>\n",
       "      <th>location</th>\n",
       "      <th>rest_type</th>\n",
       "      <th>dish_liked</th>\n",
       "      <th>cuisines</th>\n",
       "      <th>cost</th>\n",
       "      <th>listed_in(type)</th>\n",
       "      <th>cost_per_person</th>\n",
       "      <th>primary_cuisines</th>\n",
       "    </tr>\n",
       "  </thead>\n",
       "  <tbody>\n",
       "    <tr>\n",
       "      <th>0</th>\n",
       "      <td>Jalsa</td>\n",
       "      <td>True</td>\n",
       "      <td>True</td>\n",
       "      <td>4.1</td>\n",
       "      <td>775</td>\n",
       "      <td>Banashankari</td>\n",
       "      <td>Casual Dining</td>\n",
       "      <td>Pasta, Lunch Buffet, Masala Papad, Paneer Laja...</td>\n",
       "      <td>North Indian, Mughlai, Chinese</td>\n",
       "      <td>800.0</td>\n",
       "      <td>Buffet</td>\n",
       "      <td>400.0</td>\n",
       "      <td>North Indian</td>\n",
       "    </tr>\n",
       "    <tr>\n",
       "      <th>1</th>\n",
       "      <td>Spice Elephant</td>\n",
       "      <td>True</td>\n",
       "      <td>False</td>\n",
       "      <td>4.1</td>\n",
       "      <td>787</td>\n",
       "      <td>Banashankari</td>\n",
       "      <td>Casual Dining</td>\n",
       "      <td>Momos, Lunch Buffet, Chocolate Nirvana, Thai G...</td>\n",
       "      <td>Chinese, North Indian, Thai</td>\n",
       "      <td>800.0</td>\n",
       "      <td>Buffet</td>\n",
       "      <td>400.0</td>\n",
       "      <td>Chinese</td>\n",
       "    </tr>\n",
       "    <tr>\n",
       "      <th>2</th>\n",
       "      <td>San Churro Cafe</td>\n",
       "      <td>True</td>\n",
       "      <td>False</td>\n",
       "      <td>3.8</td>\n",
       "      <td>918</td>\n",
       "      <td>Banashankari</td>\n",
       "      <td>Cafe, Casual Dining</td>\n",
       "      <td>Churros, Cannelloni, Minestrone Soup, Hot Choc...</td>\n",
       "      <td>Cafe, Mexican, Italian</td>\n",
       "      <td>800.0</td>\n",
       "      <td>Buffet</td>\n",
       "      <td>400.0</td>\n",
       "      <td>Cafe</td>\n",
       "    </tr>\n",
       "    <tr>\n",
       "      <th>3</th>\n",
       "      <td>Addhuri Udupi Bhojana</td>\n",
       "      <td>False</td>\n",
       "      <td>False</td>\n",
       "      <td>3.7</td>\n",
       "      <td>88</td>\n",
       "      <td>Banashankari</td>\n",
       "      <td>Quick Bites</td>\n",
       "      <td>Masala Dosa</td>\n",
       "      <td>South Indian, North Indian</td>\n",
       "      <td>300.0</td>\n",
       "      <td>Buffet</td>\n",
       "      <td>150.0</td>\n",
       "      <td>South Indian</td>\n",
       "    </tr>\n",
       "    <tr>\n",
       "      <th>4</th>\n",
       "      <td>Grand Village</td>\n",
       "      <td>False</td>\n",
       "      <td>False</td>\n",
       "      <td>3.8</td>\n",
       "      <td>166</td>\n",
       "      <td>Basavanagudi</td>\n",
       "      <td>Casual Dining</td>\n",
       "      <td>Panipuri, Gol Gappe</td>\n",
       "      <td>North Indian, Rajasthani</td>\n",
       "      <td>600.0</td>\n",
       "      <td>Buffet</td>\n",
       "      <td>300.0</td>\n",
       "      <td>North Indian</td>\n",
       "    </tr>\n",
       "  </tbody>\n",
       "</table>\n",
       "</div>"
      ],
      "text/plain": [
       "                    name  online_order  book_table rate  votes      location  \\\n",
       "0                  Jalsa          True        True  4.1    775  Banashankari   \n",
       "1         Spice Elephant          True       False  4.1    787  Banashankari   \n",
       "2        San Churro Cafe          True       False  3.8    918  Banashankari   \n",
       "3  Addhuri Udupi Bhojana         False       False  3.7     88  Banashankari   \n",
       "4          Grand Village         False       False  3.8    166  Basavanagudi   \n",
       "\n",
       "             rest_type                                         dish_liked  \\\n",
       "0        Casual Dining  Pasta, Lunch Buffet, Masala Papad, Paneer Laja...   \n",
       "1        Casual Dining  Momos, Lunch Buffet, Chocolate Nirvana, Thai G...   \n",
       "2  Cafe, Casual Dining  Churros, Cannelloni, Minestrone Soup, Hot Choc...   \n",
       "3          Quick Bites                                        Masala Dosa   \n",
       "4        Casual Dining                                Panipuri, Gol Gappe   \n",
       "\n",
       "                         cuisines   cost listed_in(type)  cost_per_person  \\\n",
       "0  North Indian, Mughlai, Chinese  800.0          Buffet            400.0   \n",
       "1     Chinese, North Indian, Thai  800.0          Buffet            400.0   \n",
       "2          Cafe, Mexican, Italian  800.0          Buffet            400.0   \n",
       "3      South Indian, North Indian  300.0          Buffet            150.0   \n",
       "4        North Indian, Rajasthani  600.0          Buffet            300.0   \n",
       "\n",
       "  primary_cuisines  \n",
       "0     North Indian  \n",
       "1          Chinese  \n",
       "2             Cafe  \n",
       "3     South Indian  \n",
       "4     North Indian  "
      ]
     },
     "execution_count": 54,
     "metadata": {},
     "output_type": "execute_result"
    }
   ],
   "source": [
    "df.head()"
   ]
  },
  {
   "cell_type": "markdown",
   "id": "8fbc296f-9bc7-4c29-a99e-26400f14323f",
   "metadata": {},
   "source": [
    "   "
   ]
  },
  {
   "cell_type": "markdown",
   "id": "586a44d2-08ae-4741-8cfc-08b8f439d1e9",
   "metadata": {},
   "source": [
    "We cleaned the dataset by removing unnecessary columns and duplicate rows, handling missing values in key fields, and standardizing entries. The rate column was cleaned by removing text like /5, and non-numeric values such as 'NEW' or '-' were filtered out. The approx_cost(for two people) column was cleaned and renamed to cost. We also extracted new columns like cost_per_person and primary_cuisine for better insights. Lastly, we converted relevant columns to appropriate types and standardized all column names for consistency."
   ]
  },
  {
   "cell_type": "code",
   "execution_count": null,
   "id": "5af8318e-2330-42e9-a556-a9696410df18",
   "metadata": {},
   "outputs": [],
   "source": []
  }
 ],
 "metadata": {
  "kernelspec": {
   "display_name": "Python [conda env:base] *",
   "language": "python",
   "name": "conda-base-py"
  },
  "language_info": {
   "codemirror_mode": {
    "name": "ipython",
    "version": 3
   },
   "file_extension": ".py",
   "mimetype": "text/x-python",
   "name": "python",
   "nbconvert_exporter": "python",
   "pygments_lexer": "ipython3",
   "version": "3.13.5"
  }
 },
 "nbformat": 4,
 "nbformat_minor": 5
}
